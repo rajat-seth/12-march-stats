{
 "cells": [
  {
   "cell_type": "markdown",
   "id": "e479eb01-0444-4414-8c7b-21c2d1b7cfd0",
   "metadata": {},
   "source": [
    "Q1)"
   ]
  },
  {
   "cell_type": "code",
   "execution_count": 1,
   "id": "c4696635-d57f-4b46-9c2f-63163f44b768",
   "metadata": {},
   "outputs": [
    {
     "name": "stdout",
     "output_type": "stream",
     "text": [
      "Confidence Interval: (48.210805856282846, 51.789194143717154)\n"
     ]
    }
   ],
   "source": [
    "import scipy.stats as stats\n",
    "\n",
    "sample_mean = 50\n",
    "sample_std = 5\n",
    "sample_size = 30 # Specify the sample size\n",
    "\n",
    "confidence_level = 0.95\n",
    "alpha = 1 - confidence_level\n",
    "\n",
    "# Calculate the margin of error\n",
    "margin_of_error = stats.norm.ppf(1 - alpha / 2) * (sample_std / (sample_size ** 0.5))\n",
    "\n",
    "# Calculate the lower and upper bounds of the confidence interval\n",
    "lower_bound = sample_mean - margin_of_error\n",
    "upper_bound = sample_mean + margin_of_error\n",
    "\n",
    "print(\"Confidence Interval:\", (lower_bound, upper_bound))"
   ]
  },
  {
   "cell_type": "markdown",
   "id": "c213577a-db42-438d-a46b-98610600e35f",
   "metadata": {},
   "source": [
    "Interpretation:\n",
    "    The 95% confidence interval for the sample data with a mean of 50 and a standard deviation of 5 represents a range of values within which we can be 95% confident that the true population mean lies. Specifically, it means that if we were to take multiple samples from the population and calculate their confidence intervals using the same procedure, approximately 95% of those intervals would contain the true population mean. In this case, the confidence interval will provide a range of values within which we can estimate the population mean to be with 95% confidenc"
   ]
  },
  {
   "cell_type": "markdown",
   "id": "5834d2a9-b726-4437-8770-e0655540128e",
   "metadata": {},
   "source": [
    "Q2)"
   ]
  },
  {
   "cell_type": "code",
   "execution_count": 3,
   "id": "48860794-1f5e-4aa3-b71a-be3d03f4b7a5",
   "metadata": {},
   "outputs": [
    {
     "name": "stdout",
     "output_type": "stream",
     "text": [
      "Chi-square statistic: 3.2291666666666665\n",
      "p-value: 0.6647024428694875\n",
      "Fail to reject null hypothesis. The observed distribution does not differ significantly from the expected distribution\n"
     ]
    }
   ],
   "source": [
    "import scipy.stats as stats\n",
    "import numpy as np\n",
    "\n",
    "observed_counts = np.array([50, 40, 45, 25, 30, 50])  # Replace with the actual observed counts for each color\n",
    "expected_counts = np.array([0.2, 0.2, 0.2, 0.1, 0.1, 0.2]) * np.sum(observed_counts)  # Calculate expected counts based on proportions\n",
    "\n",
    "# Perform the chi-square goodness of fit test\n",
    "chi2_stat, p_value = stats.chisquare(observed_counts, expected_counts)\n",
    "\n",
    "# Print the test results\n",
    "print(\"Chi-square statistic:\", chi2_stat)\n",
    "print(\"p-value:\", p_value)\n",
    "\n",
    "alpha = 0.05  # Significance level\n",
    "\n",
    "if p_value < alpha:\n",
    "    print(\"Reject null hypothesis. The observed distribution differs significantly from the expected distribution.\")\n",
    "else:\n",
    "    print(\"Fail to reject null hypothesis. The observed distribution does not differ significantly from the expected distribution\")"
   ]
  },
  {
   "cell_type": "markdown",
   "id": "ee0f735c-5188-43fc-966f-2bbd74105b69",
   "metadata": {},
   "source": [
    "Q3)"
   ]
  },
  {
   "cell_type": "code",
   "execution_count": 4,
   "id": "83528894-fd3d-4328-91ba-508da2ccac96",
   "metadata": {},
   "outputs": [
    {
     "name": "stdout",
     "output_type": "stream",
     "text": [
      "Chi-square statistic: 5.833333333333334\n",
      "p-value: 0.05411376622282158\n"
     ]
    }
   ],
   "source": [
    "import scipy.stats as stats\n",
    "import numpy as np\n",
    "\n",
    "# Create the contingency table\n",
    "observed = np.array([[20, 15], [10, 25], [15, 20]])\n",
    "\n",
    "# Perform the chi-square test of independence\n",
    "chi2_stat, p_value, _, _ = stats.chi2_contingency(observed)\n",
    "\n",
    "# Print the test results\n",
    "print(\"Chi-square statistic:\", chi2_stat)\n",
    "print(\"p-value:\", p_value)"
   ]
  },
  {
   "cell_type": "markdown",
   "id": "9f99f23c-6adb-4e95-953e-971febed4977",
   "metadata": {},
   "source": [
    "Interpretation:\n",
    "    Based on the chi-square statistic of 5.833333333333334 and the p-value of 0.05411376622282158, at a significance level of 0.05, we are at the threshold of rejecting the null hypothesis. The p-value is slightly above the significance level, suggesting a marginal level of evidence against the null hypothesis.\n",
    "\n",
    "In practical terms, this means that there is some indication that the observed distribution in the contingency table may differ from the expected distribution. However, the evidence is not strong enough to confidently conclude that there is a relationship or association between the groups (Group A and Group B) and the outcomes (Outcome 1, Outcome 2, Outcome 3)."
   ]
  },
  {
   "cell_type": "markdown",
   "id": "bc0e5d68-9b23-42ed-8150-cf4eb68db090",
   "metadata": {},
   "source": [
    "Q4)"
   ]
  },
  {
   "cell_type": "code",
   "execution_count": 5,
   "id": "139a78e2-c8c2-4731-9bd7-ac07b3c62757",
   "metadata": {},
   "outputs": [
    {
     "name": "stdout",
     "output_type": "stream",
     "text": [
      "Confidence Interval: (0.09151638887130707, 0.1484836111286929)\n"
     ]
    }
   ],
   "source": [
    "import scipy.stats as stats\n",
    "\n",
    "sample_size = 500\n",
    "smokers = 60\n",
    "\n",
    "confidence_level = 0.95\n",
    "\n",
    "# Calculate the proportion of smokers in the sample\n",
    "sample_proportion = smokers / sample_size\n",
    "\n",
    "# Calculate the standard error\n",
    "standard_error = (sample_proportion * (1 - sample_proportion) / sample_size) ** 0.5\n",
    "\n",
    "# Calculate the margin of error\n",
    "margin_of_error = stats.norm.ppf(1 - (1 - confidence_level) / 2) * standard_error\n",
    "\n",
    "# Calculate the lower and upper bounds of the confidence interval\n",
    "lower_bound = sample_proportion - margin_of_error\n",
    "upper_bound = sample_proportion + margin_of_error\n",
    "\n",
    "print(\"Confidence Interval:\", (lower_bound, upper_bound))"
   ]
  },
  {
   "cell_type": "markdown",
   "id": "dc37b3f4-160e-48fc-8932-7b5d50bb7cc1",
   "metadata": {},
   "source": [
    "Q5)"
   ]
  },
  {
   "cell_type": "code",
   "execution_count": 6,
   "id": "41623c0b-d073-4d64-82a2-06cb34ec5f6a",
   "metadata": {},
   "outputs": [
    {
     "name": "stdout",
     "output_type": "stream",
     "text": [
      "90% Confidence Interval: (71.28, 78.72)\n"
     ]
    }
   ],
   "source": [
    "import scipy.stats as stats\n",
    "\n",
    "# Sample statistics\n",
    "sample_mean = 75\n",
    "sample_std = 12\n",
    "sample_size = 30  # Replace <your sample size> with the actual size of your sample\n",
    "\n",
    "# Calculate the standard error\n",
    "standard_error = sample_std / (sample_size ** 0.5)\n",
    "\n",
    "# Calculate the margin of error\n",
    "margin_of_error = stats.t.ppf(0.95, df=sample_size-1) * standard_error\n",
    "\n",
    "# Calculate the confidence interval\n",
    "lower_bound = sample_mean - margin_of_error\n",
    "upper_bound = sample_mean + margin_of_error\n",
    "\n",
    "# Print the confidence interval\n",
    "print(f\"90% Confidence Interval: ({lower_bound:.2f}, {upper_bound:.2f})\")"
   ]
  },
  {
   "cell_type": "markdown",
   "id": "ee95cfbe-5c04-4dc9-b014-2abb47ddef4e",
   "metadata": {},
   "source": [
    "Q6)"
   ]
  },
  {
   "cell_type": "code",
   "execution_count": 7,
   "id": "3b9b90f4-9542-4a91-828b-d36e745a5adb",
   "metadata": {},
   "outputs": [
    {
     "data": {
      "image/png": "[encoded data removed]",
      "text/plain": [
       "<Figure size 640x480 with 1 Axes>"
      ]
     },
     "metadata": {},
     "output_type": "display_data"
    }
   ],
   "source": [
    "import numpy as np\n",
    "import matplotlib.pyplot as plt\n",
    "import scipy.stats as stats\n",
    "\n",
    "# Degrees of freedom\n",
    "df = 10\n",
    "\n",
    "# Generate x-values for the chi-square distribution\n",
    "x = np.linspace(0, 30, 500)\n",
    "\n",
    "# Calculate the probability density function (PDF) for the chi-square distribution\n",
    "pdf = stats.chi2.pdf(x, df)\n",
    "\n",
    "# Plot the chi-square distribution\n",
    "plt.plot(x, pdf, label='Chi-square (10 degrees of freedom)')\n",
    "\n",
    "# Shade the area corresponding to a chi-square statistic of 15\n",
    "x_shade = np.linspace(15, 30, 100)\n",
    "pdf_shade = stats.chi2.pdf(x_shade, df)\n",
    "plt.fill_between(x_shade, pdf_shade, color='gray', alpha=0.3)\n",
    "\n",
    "# Label the axes and title\n",
    "plt.xlabel('Chi-square statistic')\n",
    "plt.ylabel('Probability Density Function')\n",
    "plt.title('Chi-square Distribution (10 degrees of freedom)')\n",
    "\n",
    "# Show the plot\n",
    "plt.legend()\n",
    "plt.grid(True)\n",
    "plt.show()\n"
   ]
  },
  {
   "cell_type": "markdown",
   "id": "654eb2d5-021f-43a3-8805-c4a41af01dde",
   "metadata": {},
   "source": [
    "Q7)"
   ]
  },
  {
   "cell_type": "code",
   "execution_count": 8,
   "id": "45487a81-14c5-464b-bd3b-61f73d031e69",
   "metadata": {},
   "outputs": [
    {
     "name": "stdout",
     "output_type": "stream",
     "text": [
      "99% Confidence Interval: (0.4793, 0.5607)\n"
     ]
    }
   ],
   "source": [
    "import statsmodels.stats.proportion as proportion\n",
    "\n",
    "# Sample statistics\n",
    "sample_size = 1000\n",
    "coke_preference = 520\n",
    "\n",
    "# Calculate the proportion\n",
    "proportion_coke = coke_preference / sample_size\n",
    "\n",
    "# Calculate the confidence interval\n",
    "conf_interval = proportion.proportion_confint(coke_preference, sample_size, alpha=0.01, method='normal')\n",
    "\n",
    "# Print the confidence interval\n",
    "print(f\"99% Confidence Interval: ({conf_interval[0]:.4f}, {conf_interval[1]:.4f})\")"
   ]
  },
  {
   "cell_type": "markdown",
   "id": "7e61d725-2721-4a20-8d5b-bec99bb541b1",
   "metadata": {},
   "source": [
    "Q8)"
   ]
  },
  {
   "cell_type": "code",
   "execution_count": 9,
   "id": "556bc319-3bdc-4e14-99b1-46893bee6d2c",
   "metadata": {},
   "outputs": [
    {
     "name": "stdout",
     "output_type": "stream",
     "text": [
      "Chi-square statistic: 1.0000\n",
      "P-value: 0.3173\n",
      "Fail to reject the null hypothesis. The coin is fair.\n"
     ]
    }
   ],
   "source": [
    "import scipy.stats as stats\n",
    "\n",
    "# Observed frequencies\n",
    "observed_frequencies = [45, 55]  # 45 tails, 55 heads\n",
    "\n",
    "# Expected frequencies for a fair coin\n",
    "expected_frequencies = [50, 50]  # 50 tails, 50 heads\n",
    "\n",
    "# Perform the chi-square goodness of fit test\n",
    "chi2, p_value = stats.chisquare(f_obs=observed_frequencies, f_exp=expected_frequencies)\n",
    "\n",
    "# Print the test results\n",
    "print(f\"Chi-square statistic: {chi2:.4f}\")\n",
    "print(f\"P-value: {p_value:.4f}\")\n",
    "\n",
    "# Compare the p-value to the significance level\n",
    "alpha = 0.05\n",
    "if p_value <= alpha:\n",
    "    print(\"Reject the null hypothesis. The coin is biased.\")\n",
    "else:\n",
    "    print(\"Fail to reject the null hypothesis. The coin is fair.\")"
   ]
  },
  {
   "cell_type": "markdown",
   "id": "d57bb90a-2aa9-404d-97d4-0e443d73bc0a",
   "metadata": {},
   "source": [
    "Q9)"
   ]
  },
  {
   "cell_type": "code",
   "execution_count": 10,
   "id": "301e1e38-7ada-4e9e-ba6f-ae390b6b906d",
   "metadata": {},
   "outputs": [
    {
     "name": "stdout",
     "output_type": "stream",
     "text": [
      "Chi-square statistic: 12.0573\n",
      "P-value: 0.0005\n",
      "Reject the null hypothesis. There is a significant association between smoking status and lung cancer diagnosis.\n"
     ]
    }
   ],
   "source": [
    "import scipy.stats as stats\n",
    "\n",
    "# Contingency table\n",
    "observed = [[60, 140], [30, 170]]  # Lung Cancer: Yes/No and Smoker/Non-smoker\n",
    "\n",
    "# Perform the chi-square test for independence\n",
    "chi2, p_value, dof, expected = stats.chi2_contingency(observed)\n",
    "\n",
    "# Print the test results\n",
    "print(f\"Chi-square statistic: {chi2:.4f}\")\n",
    "print(f\"P-value: {p_value:.4f}\")\n",
    "\n",
    "# Compare the p-value to the significance level\n",
    "alpha = 0.05\n",
    "if p_value <= alpha:\n",
    "    print(\"Reject the null hypothesis. There is a significant association between smoking status and lung cancer diagnosis.\")\n",
    "else:\n",
    "    print(\"Fail to reject the null hypothesis. There is no significant association between smoking status and lung cancer\")"
   ]
  },
  {
   "cell_type": "markdown",
   "id": "416e1cb1-b43b-4d3c-8604-e0de65fda323",
   "metadata": {},
   "source": [
    "Q10)"
   ]
  },
  {
   "cell_type": "code",
   "execution_count": null,
   "id": "fbeeb81e-f135-4005-b639-eb85a3f4a49b",
   "metadata": {},
   "outputs": [],
   "source": [
    "import scipy.stats as stats\n",
    "\n",
    "# Contingency table\n",
    "observed = [[200, 150, 150], [225, 175, 100]]  # Milk Chocolate, Dark Chocolate, White Chocolate; U.S., U.K.\n",
    "\n",
    "# Perform the chi-square test for independence\n",
    "chi2, p_value, dof, expected = stats.chi2_contingency(observed)\n",
    "\n",
    "# Print the test results\n",
    "print(f\"Chi-square statistic: {chi2:.4f}\")\n",
    "print(f\"P-value: {p_value:.4f}\")\n",
    "\n",
    "# Compare the p-value to the significance level\n",
    "alpha = 0.01\n",
    "if p_value <= alpha:\n",
    "    print(\"Reject the null hypothesis. There is a significant association between chocolate preference and country of origin.\")\n",
    "else:\n",
    "    print(\"Fail to reject the null hypothesis. There is no significant association between chocolate preference and country"
   ]
  }
 ],
 "metadata": {
  "kernelspec": {
   "display_name": "Python 3 (ipykernel)",
   "language": "python",
   "name": "python3"
  },
  "language_info": {
   "codemirror_mode": {
    "name": "ipython",
    "version": 3
   },
   "file_extension": ".py",
   "mimetype": "text/x-python",
   "name": "python",
   "nbconvert_exporter": "python",
   "pygments_lexer": "ipython3",
   "version": "3.10.8"
  }
 },
 "nbformat": 4,
 "nbformat_minor": 5
}
